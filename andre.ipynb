{
  "nbformat": 4,
  "nbformat_minor": 0,
  "metadata": {
    "colab": {
      "name": "andre.ipynb",
      "provenance": [],
      "collapsed_sections": []
    },
    "kernelspec": {
      "display_name": "Python 3",
      "name": "python3"
    }
  },
  "cells": [
    {
      "cell_type": "code",
      "metadata": {
        "id": "VSN7tb7FzKen"
      },
      "source": [
        "import pandas as pd\r\n",
        "import numpy as np\r\n",
        "import matplotlib.pyplot as plt\r\n",
        "from collections import Counter\r\n",
        "from sklearn.metrics import accuracy_score"
      ],
      "execution_count": null,
      "outputs": []
    },
    {
      "cell_type": "code",
      "metadata": {
        "id": "PspNQZLb_1K5"
      },
      "source": [
        "dt = pd.read_csv(\"Diabetes.csv\")"
      ],
      "execution_count": null,
      "outputs": []
    },
    {
      "cell_type": "code",
      "metadata": {
        "id": "NyNYq6f9_Dsd",
        "colab": {
          "base_uri": "https://localhost:8080/",
          "height": 406
        },
        "outputId": "c7ea0b7e-fa4b-4333-cf76-1eb9eadb19c8"
      },
      "source": [
        "dt['Pregnancies'] = (dt['Pregnancies']-dt['Pregnancies'].mean())/(dt['Pregnancies'].std())\r\n",
        "dt['Glucose'] = (dt['Glucose']-dt['Glucose'].mean())/(dt['Glucose'].std())\r\n",
        "dt['BloodPressure'] = (dt['BloodPressure']-dt['BloodPressure'].mean())/(dt['BloodPressure'].std())\r\n",
        "dt['SkinThickness'] = (dt['SkinThickness']-dt['SkinThickness'].mean())/(dt['SkinThickness'].std())\r\n",
        "dt['Insulin'] = (dt['Insulin']-dt['Insulin'].mean())/(dt['Insulin'].std())\r\n",
        "dt['BMI'] = (dt['BMI']-dt['BMI'].mean())/(dt['BMI'].std())\r\n",
        "dt['DiabetesPedigreeFunction'] = (dt['DiabetesPedigreeFunction']-dt['DiabetesPedigreeFunction'].mean())/(dt['DiabetesPedigreeFunction'].std())\r\n",
        "dt['Age'] = (dt['Age']-dt['Age'].mean())/(dt['Age'].std())\r\n",
        "dt\r\n"
      ],
      "execution_count": null,
      "outputs": [
        {
          "output_type": "execute_result",
          "data": {
            "text/html": [
              "<div>\n",
              "<style scoped>\n",
              "    .dataframe tbody tr th:only-of-type {\n",
              "        vertical-align: middle;\n",
              "    }\n",
              "\n",
              "    .dataframe tbody tr th {\n",
              "        vertical-align: top;\n",
              "    }\n",
              "\n",
              "    .dataframe thead th {\n",
              "        text-align: right;\n",
              "    }\n",
              "</style>\n",
              "<table border=\"1\" class=\"dataframe\">\n",
              "  <thead>\n",
              "    <tr style=\"text-align: right;\">\n",
              "      <th></th>\n",
              "      <th>Pregnancies</th>\n",
              "      <th>Glucose</th>\n",
              "      <th>BloodPressure</th>\n",
              "      <th>SkinThickness</th>\n",
              "      <th>Insulin</th>\n",
              "      <th>BMI</th>\n",
              "      <th>DiabetesPedigreeFunction</th>\n",
              "      <th>Age</th>\n",
              "      <th>Outcome</th>\n",
              "    </tr>\n",
              "  </thead>\n",
              "  <tbody>\n",
              "    <tr>\n",
              "      <th>0</th>\n",
              "      <td>0.639530</td>\n",
              "      <td>0.847771</td>\n",
              "      <td>0.149543</td>\n",
              "      <td>0.906679</td>\n",
              "      <td>-0.692439</td>\n",
              "      <td>0.203880</td>\n",
              "      <td>0.468187</td>\n",
              "      <td>1.425067</td>\n",
              "      <td>1</td>\n",
              "    </tr>\n",
              "    <tr>\n",
              "      <th>1</th>\n",
              "      <td>-0.844335</td>\n",
              "      <td>-1.122665</td>\n",
              "      <td>-0.160441</td>\n",
              "      <td>0.530556</td>\n",
              "      <td>-0.692439</td>\n",
              "      <td>-0.683976</td>\n",
              "      <td>-0.364823</td>\n",
              "      <td>-0.190548</td>\n",
              "      <td>0</td>\n",
              "    </tr>\n",
              "    <tr>\n",
              "      <th>2</th>\n",
              "      <td>1.233077</td>\n",
              "      <td>1.942458</td>\n",
              "      <td>-0.263769</td>\n",
              "      <td>-1.287373</td>\n",
              "      <td>-0.692439</td>\n",
              "      <td>-1.102537</td>\n",
              "      <td>0.604004</td>\n",
              "      <td>-0.105515</td>\n",
              "      <td>1</td>\n",
              "    </tr>\n",
              "    <tr>\n",
              "      <th>3</th>\n",
              "      <td>-0.844335</td>\n",
              "      <td>-0.997558</td>\n",
              "      <td>-0.160441</td>\n",
              "      <td>0.154433</td>\n",
              "      <td>0.123221</td>\n",
              "      <td>-0.493721</td>\n",
              "      <td>-0.920163</td>\n",
              "      <td>-1.040871</td>\n",
              "      <td>0</td>\n",
              "    </tr>\n",
              "    <tr>\n",
              "      <th>4</th>\n",
              "      <td>-1.141108</td>\n",
              "      <td>0.503727</td>\n",
              "      <td>-1.503707</td>\n",
              "      <td>0.906679</td>\n",
              "      <td>0.765337</td>\n",
              "      <td>1.408828</td>\n",
              "      <td>5.481337</td>\n",
              "      <td>-0.020483</td>\n",
              "      <td>1</td>\n",
              "    </tr>\n",
              "    <tr>\n",
              "      <th>...</th>\n",
              "      <td>...</td>\n",
              "      <td>...</td>\n",
              "      <td>...</td>\n",
              "      <td>...</td>\n",
              "      <td>...</td>\n",
              "      <td>...</td>\n",
              "      <td>...</td>\n",
              "      <td>...</td>\n",
              "      <td>...</td>\n",
              "    </tr>\n",
              "    <tr>\n",
              "      <th>763</th>\n",
              "      <td>1.826623</td>\n",
              "      <td>-0.622237</td>\n",
              "      <td>0.356200</td>\n",
              "      <td>1.721613</td>\n",
              "      <td>0.869464</td>\n",
              "      <td>0.115094</td>\n",
              "      <td>-0.908090</td>\n",
              "      <td>2.530487</td>\n",
              "      <td>0</td>\n",
              "    </tr>\n",
              "    <tr>\n",
              "      <th>764</th>\n",
              "      <td>-0.547562</td>\n",
              "      <td>0.034575</td>\n",
              "      <td>0.046215</td>\n",
              "      <td>0.405181</td>\n",
              "      <td>-0.692439</td>\n",
              "      <td>0.609757</td>\n",
              "      <td>-0.398023</td>\n",
              "      <td>-0.530677</td>\n",
              "      <td>0</td>\n",
              "    </tr>\n",
              "    <tr>\n",
              "      <th>765</th>\n",
              "      <td>0.342757</td>\n",
              "      <td>0.003299</td>\n",
              "      <td>0.149543</td>\n",
              "      <td>0.154433</td>\n",
              "      <td>0.279412</td>\n",
              "      <td>-0.734711</td>\n",
              "      <td>-0.684747</td>\n",
              "      <td>-0.275580</td>\n",
              "      <td>0</td>\n",
              "    </tr>\n",
              "    <tr>\n",
              "      <th>766</th>\n",
              "      <td>-0.844335</td>\n",
              "      <td>0.159683</td>\n",
              "      <td>-0.470426</td>\n",
              "      <td>-1.287373</td>\n",
              "      <td>-0.692439</td>\n",
              "      <td>-0.240048</td>\n",
              "      <td>-0.370859</td>\n",
              "      <td>1.169970</td>\n",
              "      <td>1</td>\n",
              "    </tr>\n",
              "    <tr>\n",
              "      <th>767</th>\n",
              "      <td>-0.844335</td>\n",
              "      <td>-0.872451</td>\n",
              "      <td>0.046215</td>\n",
              "      <td>0.655930</td>\n",
              "      <td>-0.692439</td>\n",
              "      <td>-0.201997</td>\n",
              "      <td>-0.473476</td>\n",
              "      <td>-0.870806</td>\n",
              "      <td>0</td>\n",
              "    </tr>\n",
              "  </tbody>\n",
              "</table>\n",
              "<p>768 rows × 9 columns</p>\n",
              "</div>"
            ],
            "text/plain": [
              "     Pregnancies   Glucose  ...       Age  Outcome\n",
              "0       0.639530  0.847771  ...  1.425067        1\n",
              "1      -0.844335 -1.122665  ... -0.190548        0\n",
              "2       1.233077  1.942458  ... -0.105515        1\n",
              "3      -0.844335 -0.997558  ... -1.040871        0\n",
              "4      -1.141108  0.503727  ... -0.020483        1\n",
              "..           ...       ...  ...       ...      ...\n",
              "763     1.826623 -0.622237  ...  2.530487        0\n",
              "764    -0.547562  0.034575  ... -0.530677        0\n",
              "765     0.342757  0.003299  ... -0.275580        0\n",
              "766    -0.844335  0.159683  ...  1.169970        1\n",
              "767    -0.844335 -0.872451  ... -0.870806        0\n",
              "\n",
              "[768 rows x 9 columns]"
            ]
          },
          "metadata": {
            "tags": []
          },
          "execution_count": 17
        }
      ]
    },
    {
      "cell_type": "code",
      "metadata": {
        "id": "M_Ov3gDVF64p"
      },
      "source": [
        "def dataset_himpunan1(dt,train1,test1):\r\n",
        "    for i in range(len(dt)):\r\n",
        "        if(i in range(0,614)):\r\n",
        "            train1.append(dt.loc[i])\r\n",
        "        else:\r\n",
        "            test1.append(dt.loc[i])\r\n",
        "\r\n",
        "def dataset_himpunan2(dt,train2,test2):\r\n",
        "    for i in range(len(dt)):\r\n",
        "        if(i in range(0,461) or i in range(615,768)):\r\n",
        "            train2.append(dt.loc[i])\r\n",
        "        else:\r\n",
        "            test2.append(dt.loc[i])\r\n",
        "\r\n",
        "def dataset_himpunan3(dt,train3,test3):\r\n",
        "    for i in range(len(dt)):\r\n",
        "        if(i in range(0,307) or i in range(462,768)):\r\n",
        "            train3.append(dt.loc[i])\r\n",
        "        else:\r\n",
        "            test3.append(dt.loc[i])\r\n",
        "\r\n",
        "def dataset_himpunan4(dt,train4,test4):\r\n",
        "    for i in range(len(dt)):\r\n",
        "        if(i in range(0,154) or i in range(308,768)):\r\n",
        "            train4.append(dt.loc[i])\r\n",
        "        else:\r\n",
        "            test4.append(dt.loc[i])\r\n",
        "\r\n",
        "def dataset_himpunan5(dt,train5,test5):\r\n",
        "    for i in range(len(dt)):\r\n",
        "        if(i in range(155,768)):\r\n",
        "            train5.append(dt.loc[i])\r\n",
        "        else:\r\n",
        "            test5.append(dt.loc[i])\r\n",
        "\r\n",
        "\r\n"
      ],
      "execution_count": null,
      "outputs": []
    },
    {
      "cell_type": "code",
      "metadata": {
        "id": "KOupesR8L0GK"
      },
      "source": [
        "test1, test2, test3, test4, test5 = [], [], [], [], []\r\n",
        "train1, train2, train3, train4, train5 = [], [], [], [], [] "
      ],
      "execution_count": null,
      "outputs": []
    },
    {
      "cell_type": "code",
      "metadata": {
        "id": "fyFE8nhScvXr"
      },
      "source": [
        "#Distance Count With Manhattan Distance\r\n",
        "def manhattan_distance(train_set,test_set):\r\n",
        "  train_set = np.asarray(train_set)\r\n",
        "  test_set = np.asarray(test_set)\r\n",
        "  sum = np.sum(abs(train_set - test_set))#numpy\r\n",
        "  return sum"
      ],
      "execution_count": null,
      "outputs": []
    },
    {
      "cell_type": "code",
      "metadata": {
        "id": "fchLgiite1MW"
      },
      "source": [
        "def knn(train_set,test_set,k):\r\n",
        "  actual = []\r\n",
        "  hasil = []\r\n",
        "  #klasifikasi\r\n",
        "  for i in range(len(test_set)):\r\n",
        "    all_range = []\r\n",
        "    labels = []\r\n",
        "    for j in range(len(train_set)):\r\n",
        "      total = manhattan_distance(train_set[j][:'Age'],test_set[i][:'Age'])\r\n",
        "      all_range.append(total)\r\n",
        "\r\n",
        "    actual.append(test_set[i]['Outcome'])\r\n",
        "    closest = np.argsort(all_range)[:k]\r\n",
        " #data sudah dipih yang paling terkecil\r\n",
        " #data juga sudah disort\r\n",
        "    for l in closest :\r\n",
        "      labels.append(train_set[l]['Outcome'])\r\n",
        "      \r\n",
        "    vote = Counter(labels).most_common(1)\r\n",
        "    hasil.append(vote[0][0])\r\n",
        "  akurasi = accuracy_score(actual,hasil) \r\n",
        "  return akurasi\r\n",
        "  #data dicek apakah mirip dgn akurasi yg sebenarnya\r\n"
      ],
      "execution_count": null,
      "outputs": []
    },
    {
      "cell_type": "code",
      "metadata": {
        "id": "xvurL4BIkpn8"
      },
      "source": [
        "dataset_himpunan1(dt,train1,test1)\r\n",
        "dataset_himpunan2(dt,train2,test2)\r\n",
        "dataset_himpunan3(dt,train3,test3)\r\n",
        "dataset_himpunan4(dt,train4,test4)\r\n",
        "dataset_himpunan5(dt,train5,test5)"
      ],
      "execution_count": null,
      "outputs": []
    },
    {
      "cell_type": "code",
      "metadata": {
        "id": "qdNQ1dBIu0au",
        "colab": {
          "base_uri": "https://localhost:8080/"
        },
        "outputId": "d1d6dea7-c077-4672-93bd-2c0d3e7deab2"
      },
      "source": [
        "#mainProgram\r\n",
        "act_1 = []\r\n",
        "act_2 = []\r\n",
        "act_3 = []\r\n",
        "act_4 = []\r\n",
        "act_5 = []\r\n",
        "\r\n",
        "for i in range(len(train1)):\r\n",
        "  act_1.append(train1[i]['Outcome'])\r\n",
        "for j in range(len(train2)):\r\n",
        "  act_2.append(train2[j]['Outcome'])\r\n",
        "for k in range(len(train3)):\r\n",
        "  act_3.append(train3[k]['Outcome'])\r\n",
        "for l in range(len(train4)):\r\n",
        "  act_4.append(train4[l]['Outcome'])\r\n",
        "for m in range(len(train5)):\r\n",
        "  act_5.append(train5[m]['Outcome'])\r\n",
        "\r\n",
        "k = 1\r\n",
        "k_array = []\r\n",
        "nilaiakurasi = []\r\n",
        "for i in range(0,20):\r\n",
        "  knn1 = knn(train1,test1,k)\r\n",
        "  knn2 = knn(train2,test2,k)\r\n",
        "  knn3 = knn(train3,test3,k)\r\n",
        "  knn4 = knn(train4,test4,k)\r\n",
        "  knn5 = knn(train5,test5,k)\r\n",
        "  total =((knn1 + knn2 + knn3 + knn4 + knn5)/5)*100\r\n",
        "  print(\"Nilai K : \",k)\r\n",
        "  print(\"Akurasi : \",total)\r\n",
        "  nilaiakurasi.append(total)\r\n",
        "  k_array.append(k)\r\n",
        "  k+=2\r\n",
        "for i in range(0,len(nilaiakurasi)):\r\n",
        "  if (nilaiakurasi[i] == max(nilaiakurasi)):\r\n",
        "    print(\"Nilai k Terbaik :\",(k_array[i]))\r\n",
        "print(\"Akurasi Tertinggi :\",max(nilaiakurasi))"
      ],
      "execution_count": null,
      "outputs": [
        {
          "output_type": "stream",
          "text": [
            "Nilai K :  1\n",
            "Akurasi :  70.33263510682866\n",
            "Nilai K :  3\n",
            "Akurasi :  71.8843736908253\n",
            "Nilai K :  5\n",
            "Akurasi :  72.40720569752827\n",
            "Nilai K :  7\n",
            "Akurasi :  74.7373271889401\n",
            "Nilai K :  9\n",
            "Akurasi :  75.64306661080855\n",
            "Nilai K :  11\n",
            "Akurasi :  74.99204021784666\n",
            "Nilai K :  13\n",
            "Akurasi :  74.47423544197737\n",
            "Nilai K :  15\n",
            "Akurasi :  75.38416422287389\n",
            "Nilai K :  17\n",
            "Akurasi :  75.1277754503561\n",
            "Nilai K :  19\n",
            "Akurasi :  76.42563887725177\n",
            "Nilai K :  21\n",
            "Akurasi :  76.55550900712191\n",
            "Nilai K :  23\n",
            "Akurasi :  76.55215751989945\n",
            "Nilai K :  25\n",
            "Akurasi :  75.90364474235443\n",
            "Nilai K :  27\n",
            "Akurasi :  75.90532048596565\n",
            "Nilai K :  29\n",
            "Akurasi :  76.03519061583577\n",
            "Nilai K :  31\n",
            "Akurasi :  75.90364474235443\n",
            "Nilai K :  33\n",
            "Akurasi :  76.42228739002933\n",
            "Nilai K :  35\n",
            "Akurasi :  76.42228739002933\n",
            "Nilai K :  37\n",
            "Akurasi :  76.81022203602849\n",
            "Nilai K :  39\n",
            "Akurasi :  76.16254713028907\n",
            "Nilai k Terbaik : 37\n",
            "Akurasi Tertinggi : 76.81022203602849\n"
          ],
          "name": "stdout"
        }
      ]
    },
    {
      "cell_type": "code",
      "metadata": {
        "id": "iiCcghCgGcTX",
        "colab": {
          "base_uri": "https://localhost:8080/",
          "height": 513
        },
        "outputId": "b9e81522-64ec-4d8f-af85-a35242d84a5c"
      },
      "source": [
        "plt.figure(figsize=(12,8))\r\n",
        "plt.plot(k_array, nilaiakurasi)\r\n",
        "plt.title('Grafik tingkat Akurasi 1301180179')\r\n",
        "plt.xlabel('Nilai K terbaik')\r\n",
        "plt.ylabel('Akurasi')\r\n",
        "plt.show()"
      ],
      "execution_count": null,
      "outputs": [
        {
          "output_type": "display_data",
          "data": {
            "image/png": "[encoded data removed]",
            "text/plain": [
              "<Figure size 864x576 with 1 Axes>"
            ]
          },
          "metadata": {
            "tags": [],
            "needs_background": "light"
          }
        }
      ]
    }
  ]
}